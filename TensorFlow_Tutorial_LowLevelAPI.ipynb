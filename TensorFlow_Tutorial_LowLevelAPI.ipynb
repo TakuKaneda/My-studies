{
 "cells": [
  {
   "cell_type": "markdown",
   "metadata": {},
   "source": [
    "# Learning TensorFlow form a very beginning\n",
    "I create a very simple model in order to learn how to use TensorFlow (tf) with a low level API.\n"
   ]
  },
  {
   "cell_type": "code",
   "execution_count": 1,
   "metadata": {},
   "outputs": [
    {
     "name": "stderr",
     "output_type": "stream",
     "text": [
      "/Users/taku/anaconda3/lib/python3.6/site-packages/h5py/__init__.py:36: FutureWarning: Conversion of the second argument of issubdtype from `float` to `np.floating` is deprecated. In future, it will be treated as `np.float64 == np.dtype(float).type`.\n",
      "  from ._conv import register_converters as _register_converters\n"
     ]
    }
   ],
   "source": [
    "import numpy as np\n",
    "import tensorflow as tf\n"
   ]
  },
  {
   "cell_type": "markdown",
   "metadata": {},
   "source": [
    "## 1 Basics\n",
    "The process of tf can be divided into 3 parts:\n",
    "- Data preparation\n",
    "- Definition of operations (generate Graph)\n",
    "- Running operations (run Graph)\n"
   ]
  },
  {
   "cell_type": "code",
   "execution_count": 2,
   "metadata": {},
   "outputs": [
    {
     "name": "stdout",
     "output_type": "stream",
     "text": [
      "[3.0, 4.0]\n",
      "7.0\n"
     ]
    }
   ],
   "source": [
    "# 1: data preparation\n",
    "a_raw = 3.0\n",
    "b_raw = 4.0\n",
    "\n",
    "# 2: definition of operations\n",
    "a = tf.constant(a_raw)\n",
    "b = tf.constant(b_raw)\n",
    "total = a + b\n",
    "\n",
    "# 3: runing operations\n",
    "session = tf.Session()\n",
    "print(session.run([a,b])) # run constant function\n",
    "print(session.run(total))\n"
   ]
  },
  {
   "cell_type": "markdown",
   "metadata": {},
   "source": [
    "## 2 Feed data afterward\n",
    "In general, data will be feeded iteratively in ML. Thus we here just define data as a 'bucket'. For this purpose, we can use `placeholder`."
   ]
  },
  {
   "cell_type": "code",
   "execution_count": 3,
   "metadata": {},
   "outputs": [
    {
     "name": "stdout",
     "output_type": "stream",
     "text": [
      "8.1\n",
      "[7. 3.]\n"
     ]
    }
   ],
   "source": [
    "# 1: data preparation\n",
    "# NOTHING\n",
    "\n",
    "# 2: definition of operations\n",
    "x1 = tf.placeholder(tf.float32) \n",
    "x2 = tf.placeholder(tf.float32)\n",
    "addition = tf.add(x1, x2)\n",
    "\n",
    "# 3: runing operations\n",
    "session = tf.Session()\n",
    "print(session.run(addition, feed_dict = {x1: 5.9, x2: 2.2}))\n",
    "print(session.run(addition, feed_dict = {x1: [3.0, 1.0], x2: [4.0, 2.0]}))\n"
   ]
  },
  {
   "cell_type": "markdown",
   "metadata": {},
   "source": [
    "## 3 Implement simple linear regression model\n",
    "\n",
    "Here we create a simple linear regression model with tf. First we see the model without any training."
   ]
  },
  {
   "cell_type": "code",
   "execution_count": 4,
   "metadata": {},
   "outputs": [
    {
     "name": "stdout",
     "output_type": "stream",
     "text": [
      "1.0\n",
      "1.2222222\n",
      "1.4444444\n",
      "1.6666666\n",
      "1.8888888\n",
      "2.1111112\n",
      "2.3333333\n",
      "2.5555556\n",
      "2.7777777\n",
      "3.0\n"
     ]
    }
   ],
   "source": [
    "# 1: data preparation\n",
    "x_data = np.linspace(1.0, 3.0, num=10) # data\n",
    "y_data = x_data * 2.0 - 1.0  # true labels\n",
    "\n",
    "# 2: definition of operations\n",
    "x = tf.placeholder(tf.float32) \n",
    "y_label = tf.placeholder(tf.float32) # true labels\n",
    "w = tf.Variable(1.0)  # initial weight -> 1.0\n",
    "b = tf.Variable(0.0)  # initial bias -> 0.0\n",
    "def linear_model(input_data):\n",
    "    return input_data * w + b\n",
    "\n",
    "y_pred = linear_model(x)  # model\n",
    "\n",
    "# to initialize all variables \n",
    "init = tf.global_variables_initializer()\n",
    "\n",
    "# # 3: runing operations\n",
    "session = tf.Session()\n",
    "session.run(init) # run initialization step\n",
    "for i in range(len(x_data)):\n",
    "    print(session.run(y_pred, feed_dict = {x: x_data[i], y_label: y_data[i]}))"
   ]
  },
  {
   "cell_type": "markdown",
   "metadata": {},
   "source": [
    "We then try to train the model. We need to define **loss** of the model. We adopt **Mean squared error** which is defined as the mean of the L2 norm from the true label of every data entry. For optimizer, we use **gradient descent** which takes the direction of the gradient of the loss so as to minimize it. Our model is as follows:\n",
    "$$ y = w \\cdot x + b$$\n",
    "where $x$ is an input, $w$ is a **weight**, $b$ is a **bias** and $y$ is an output (label)."
   ]
  },
  {
   "cell_type": "code",
   "execution_count": 5,
   "metadata": {},
   "outputs": [
    {
     "name": "stdout",
     "output_type": "stream",
     "text": [
      "Iteration:  0  loss:  1.1500523\n",
      "Iteration:  100  loss:  0.09882148\n",
      "Iteration:  200  loss:  0.072776295\n",
      "Iteration:  300  loss:  0.053595543\n",
      "Iteration:  400  loss:  0.039470047\n",
      "Iteration:  500  loss:  0.029067418\n",
      "Iteration:  600  loss:  0.021406507\n",
      "Iteration:  700  loss:  0.015764628\n",
      "Iteration:  800  loss:  0.011609776\n",
      "Iteration:  900  loss:  0.008549908\n",
      "Iteration:  1000  loss:  0.0062964954\n",
      "Iteration:  1100  loss:  0.0046370216\n",
      "Iteration:  1200  loss:  0.003414899\n",
      "Iteration:  1300  loss:  0.0025148746\n",
      "Iteration:  1400  loss:  0.001852053\n",
      "Iteration:  1500  loss:  0.0013639372\n",
      "Iteration:  1600  loss:  0.0010044759\n",
      "Iteration:  1700  loss:  0.0007397323\n",
      "Iteration:  1800  loss:  0.0005447654\n",
      "Iteration:  1900  loss:  0.00040118716\n",
      "Iteration:  2000  loss:  0.00029545027\n"
     ]
    }
   ],
   "source": [
    "# 1: data preparation\n",
    "x_data = np.linspace(1.0, 3.0, num=10) # data\n",
    "y_data = x_data * 2.0 - 1.0  # true labels\n",
    "\n",
    "# 2: definition of operations\n",
    "x = tf.placeholder(tf.float32) \n",
    "y_label = tf.placeholder(tf.float32) # true labels\n",
    "w = tf.Variable(1.0)  # initial weight -> 1.0\n",
    "b = tf.Variable(0.0)  # initial bias -> 0.0\n",
    "\n",
    "def linear_model(input_data):\n",
    "    \"\"\"simple linear model with an input value\"\"\"\n",
    "    return input_data * w + b\n",
    "\n",
    "y_pred = linear_model(x)  # model\n",
    "\n",
    "# define loss\n",
    "loss = tf.losses.mean_squared_error(labels=y_label, predictions=y_pred)\n",
    "# define train with GD\n",
    "train = tf.train.GradientDescentOptimizer(0.01).minimize(loss)\n",
    "\n",
    "# to initialize all variables \n",
    "init = tf.global_variables_initializer()\n",
    "\n",
    "# # 3: runing operations\n",
    "session = tf.Session()\n",
    "session.run(init) # run initialization step\n",
    "for i in range(2001):\n",
    "    session.run(train, feed_dict= {x: x_data, y_label: y_data})\n",
    "    if i % 100 == 0:\n",
    "        current_loss = session.run(loss, feed_dict= {x: x_data, y_label: y_data})\n",
    "        print('Iteration: ', i, ' loss: ', current_loss)"
   ]
  },
  {
   "cell_type": "markdown",
   "metadata": {},
   "source": [
    "Let's visualize the resulting prediction"
   ]
  },
  {
   "cell_type": "code",
   "execution_count": 6,
   "metadata": {},
   "outputs": [
    {
     "data": {
      "image/png": "[encoded data removed]",
      "text/plain": [
       "<matplotlib.figure.Figure at 0x1839b41160>"
      ]
     },
     "metadata": {},
     "output_type": "display_data"
    }
   ],
   "source": [
    "import matplotlib.pyplot as plt\n",
    "\n",
    "# obtain the final prediction\n",
    "y_result = session.run(y_pred, feed_dict= {x: x_data, y_label: y_data})\n",
    "\n",
    "# plot\n",
    "plt.plot(x_data,y_data,'.', label='data')\n",
    "plt.plot(x_data,y_result ,'.', label='prediction')\n",
    "plt.legend()\n",
    "plt.xlabel('x')\n",
    "plt.ylabel('y')\n",
    "plt.show()\n",
    "        "
   ]
  },
  {
   "cell_type": "markdown",
   "metadata": {},
   "source": [
    "## 4 Implement neural network\n",
    "We now try to implement a simple neural network (NN) model to predict a sine curve:\n",
    "$$ y = \\sin(x)$$\n",
    "where we consider $x \\in [0, 3\\pi]$.  We apply a three-layer NN with **tanh** activation function.\n",
    "\n"
   ]
  },
  {
   "cell_type": "code",
   "execution_count": 7,
   "metadata": {},
   "outputs": [
    {
     "data": {
      "image/png": "[encoded data removed]",
      "text/plain": [
       "<matplotlib.figure.Figure at 0x183ab5aef0>"
      ]
     },
     "metadata": {},
     "output_type": "display_data"
    }
   ],
   "source": [
    "# 1: data preparation\n",
    "x_data = np.linspace(0, 3*np.pi, num=100)[:,None] # data\n",
    "y_data = np.sin(x_data) # true labels\n",
    "\n",
    "plt.plot(x_data,y_data,'.', label='data')\n",
    "plt.legend()\n",
    "plt.xlabel('x')\n",
    "plt.ylabel('y')\n",
    "plt.show()"
   ]
  },
  {
   "cell_type": "code",
   "execution_count": 8,
   "metadata": {},
   "outputs": [
    {
     "data": {
      "image/png": "[encoded data removed]",
      "text/plain": [
       "<matplotlib.figure.Figure at 0x1839b17780>"
      ]
     },
     "metadata": {},
     "output_type": "display_data"
    }
   ],
   "source": [
    "# tanh function\n",
    "xax = np.linspace(-5,5,100)\n",
    "plt.plot(xax,np.tanh(xax))\n",
    "plt.title('tanh')\n",
    "plt.show()"
   ]
  },
  {
   "cell_type": "code",
   "execution_count": 9,
   "metadata": {},
   "outputs": [
    {
     "name": "stdout",
     "output_type": "stream",
     "text": [
      "Iteration:  0  loss:  0.49086928\n",
      "Iteration:  1000  loss:  0.019730764\n",
      "Iteration:  2000  loss:  0.0015781209\n",
      "Iteration:  3000  loss:  0.0007899654\n",
      "Iteration:  4000  loss:  0.00072687597\n",
      "Iteration:  5000  loss:  0.0003728614\n",
      "Iteration:  6000  loss:  0.00016435959\n",
      "Iteration:  7000  loss:  0.00016003616\n",
      "Iteration:  8000  loss:  8.580062e-05\n",
      "Iteration:  9000  loss:  0.00010011528\n",
      "Iteration:  10000  loss:  5.8034784e-05\n",
      "Iteration:  11000  loss:  7.66266e-05\n",
      "Iteration:  12000  loss:  0.00010122388\n",
      "Iteration:  13000  loss:  0.00014506512\n",
      "Iteration:  14000  loss:  3.8384664e-05\n",
      "Iteration:  15000  loss:  3.5662502e-05\n",
      "Iteration:  16000  loss:  3.2690885e-05\n",
      "Iteration:  17000  loss:  0.0005031883\n",
      "Iteration:  18000  loss:  2.814668e-05\n",
      "Iteration:  19000  loss:  2.6964908e-05\n",
      "Iteration:  20000  loss:  2.464424e-05\n"
     ]
    },
    {
     "data": {
      "image/png": "[encoded data removed]",
      "text/plain": [
       "<matplotlib.figure.Figure at 0x183ab2da20>"
      ]
     },
     "metadata": {},
     "output_type": "display_data"
    }
   ],
   "source": [
    "num_hidden = 10\n",
    "ini_stddev = 0.1\n",
    "\n",
    "# 2: definition of operations\n",
    "x = tf.placeholder(tf.float32, (None, 1))\n",
    "y_label = tf.placeholder(tf.float32)\n",
    "\n",
    "# modeling of NN\n",
    "weight1 = tf.Variable(tf.truncated_normal(shape=(1, num_hidden),mean=0.0,stddev=ini_stddev))\n",
    "bias1 = tf.Variable(tf.zeros([num_hidden]))\n",
    "hidden1 = tf.nn.tanh(tf.matmul(x, weight1) + bias1)\n",
    "\n",
    "weight2 = tf.Variable(tf.truncated_normal(shape=(num_hidden,num_hidden),mean=0.0,stddev=ini_stddev))\n",
    "bias2 = tf.Variable(tf.zeros([num_hidden]))\n",
    "hidden2 = tf.nn.tanh(tf.matmul(hidden1, weight2) + bias2)\n",
    "\n",
    "weight3 = tf.Variable(tf.truncated_normal(shape=(num_hidden,num_hidden),mean=0.0,stddev=ini_stddev))\n",
    "bias3 = tf.Variable(tf.zeros([num_hidden]))\n",
    "hidden3 = tf.nn.tanh(tf.matmul(hidden2, weight3) + bias3)\n",
    "\n",
    "weight4 = tf.Variable(tf.truncated_normal(shape=(num_hidden,1),mean=0.0,stddev=ini_stddev))\n",
    "bias4 = tf.Variable(tf.zeros([1]))\n",
    "y_pred = tf.matmul(hidden3, weight4) + bias4 # prediction\n",
    "\n",
    "loss = tf.losses.mean_squared_error(labels=y_label, predictions=y_pred) # define loss\n",
    "train = tf.train.AdamOptimizer().minimize(loss)\n",
    "\n",
    "init = tf.global_variables_initializer()\n",
    "\n",
    "\n",
    "# 3: runing operations\n",
    "session = tf.Session()\n",
    "session.run(init) # run initialization step\n",
    "for i in range(20001):\n",
    "    session.run(train, feed_dict= {x: x_data, y_label: y_data})\n",
    "    if i % 1000 == 0:\n",
    "        current_loss = session.run(loss, feed_dict= {x: x_data, y_label: y_data})\n",
    "        print('Iteration: ', i, ' loss: ', current_loss)\n",
    "\n",
    "y_result = session.run(y_pred, feed_dict={x: x_data, y_label: y_data})\n",
    "plt.plot(x_data,y_data,'.', label='data')\n",
    "plt.plot(x_data,y_result,'.', label='prediction')\n",
    "plt.legend()\n",
    "plt.xlabel('x')\n",
    "plt.ylabel('y')\n",
    "plt.show()"
   ]
  },
  {
   "cell_type": "code",
   "execution_count": null,
   "metadata": {
    "collapsed": true
   },
   "outputs": [],
   "source": []
  }
 ],
 "metadata": {
  "kernelspec": {
   "display_name": "Python 3",
   "language": "python",
   "name": "python3"
  },
  "language_info": {
   "codemirror_mode": {
    "name": "ipython",
    "version": 3
   },
   "file_extension": ".py",
   "mimetype": "text/x-python",
   "name": "python",
   "nbconvert_exporter": "python",
   "pygments_lexer": "ipython3",
   "version": "3.6.3"
  }
 },
 "nbformat": 4,
 "nbformat_minor": 2
}
